{
 "cells": [
  {
   "cell_type": "code",
   "execution_count": null,
   "id": "07175d1d",
   "metadata": {},
   "outputs": [
    {
     "name": "stdout",
     "output_type": "stream",
     "text": [
      "Sample 1 Results:\n",
      "Optimal Cost: 5\n",
      "Optimal Path: (0,0) → (0,1) → (1,2) → (2,3) → (3,3)\n",
      "\n",
      "Sample 2 Results:\n",
      "Optimal Cost: 8\n",
      "Optimal Path: (0,0) → (1,0) → (2,1) → (3,2) → (3,3)\n"
     ]
    }
   ],
   "source": [
    "from queue import PriorityQueue\n",
    "import math\n",
    "\n",
    "\n",
    "def a_star_search(Grid, Sx, Sy, Dx, Dy):\n",
    "    N = len(Grid)\n",
    "\n",
    "    def heuristic(x, y):\n",
    "        return math.sqrt((Dx - x) ** 2 + (Dy - y) ** 2)\n",
    "\n",
    "    g_score = [[float(\"inf\")] * N for _ in range(N)]\n",
    "    g_score[Sx][Sy] = Grid[Sx][Sy]\n",
    "    f_score = [[float(\"inf\")] * N for _ in range(N)]\n",
    "    f_score[Sx][Sy] = g_score[Sx][Sy] + heuristic(Sx, Sy)\n",
    "\n",
    "    came_from = {}\n",
    "    pq = PriorityQueue()\n",
    "    pq.put((f_score[Sx][Sy], Sx, Sy))\n",
    "\n",
    "    directions = [(-1, 0), (1, 0), (0, -1), (0, 1), (-1, -1), (-1, 1), (1, -1), (1, 1)]\n",
    "\n",
    "    while not pq.empty():\n",
    "        current_f, x, y = pq.get()\n",
    "\n",
    "        if current_f > f_score[x][y]:\n",
    "            continue\n",
    "\n",
    "        if x == Dx and y == Dy:\n",
    "            path = []\n",
    "            total_cost = g_score[x][y]\n",
    "            while (x, y) != (Sx, Sy):\n",
    "                path.append((x, y))\n",
    "                x, y = came_from[(x, y)]\n",
    "            path.append((Sx, Sy))\n",
    "            path.reverse()\n",
    "            return total_cost, path\n",
    "\n",
    "        for dx, dy in directions:\n",
    "            nx = x + dx\n",
    "            ny = y + dy\n",
    "            if 0 <= nx < N and 0 <= ny < N and Grid[nx][ny] != -1:\n",
    "                temp_g = g_score[x][y] + Grid[nx][ny]\n",
    "                temp_f = temp_g + heuristic(nx, ny)\n",
    "                if temp_f < f_score[nx][ny]:\n",
    "                    came_from[(nx, ny)] = (x, y)\n",
    "                    g_score[nx][ny] = temp_g\n",
    "                    f_score[nx][ny] = temp_f\n",
    "                    pq.put((temp_f, nx, ny))\n",
    "\n",
    "    return float(\"inf\"), []\n",
    "\n",
    "\n",
    "# Sample Input 1\n",
    "Grid1 = [[1, 1, 1, -1], [1, -1, 1, 1], [1, 1, 1, 1], [1, -1, 1, 1]]\n",
    "Sx1, Sy1 = (0, 0)\n",
    "Dx1, Dy1 = (3, 3)\n",
    "\n",
    "\n",
    "# Run A* search for both samples\n",
    "print(\"Sample 1 Results:\")\n",
    "cost1, path1 = a_star_search(Grid1, Sx1, Sy1, Dx1, Dy1)\n",
    "print(f\"Optimal Cost: {cost1}\")\n",
    "print(\"Optimal Path:\", end=\" \")\n",
    "print(\" → \".join(f\"({x},{y})\" for x, y in path1))"
   ]
  },
  {
   "cell_type": "code",
   "execution_count": null,
   "id": "7b79ce86",
   "metadata": {},
   "outputs": [],
   "source": []
  }
 ],
 "metadata": {
  "kernelspec": {
   "display_name": "Python 3",
   "language": "python",
   "name": "python3"
  },
  "language_info": {
   "codemirror_mode": {
    "name": "ipython",
    "version": 3
   },
   "file_extension": ".py",
   "mimetype": "text/x-python",
   "name": "python",
   "nbconvert_exporter": "python",
   "pygments_lexer": "ipython3",
   "version": "3.13.0"
  }
 },
 "nbformat": 4,
 "nbformat_minor": 5
}
