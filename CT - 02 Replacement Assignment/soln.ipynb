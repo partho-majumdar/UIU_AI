{
 "cells": [
  {
   "cell_type": "code",
   "execution_count": 1,
   "id": "4caf3388",
   "metadata": {},
   "outputs": [],
   "source": [
    "import numpy as np\n",
    "import pandas as pd\n",
    "import matplotlib.pyplot as plt"
   ]
  },
  {
   "cell_type": "code",
   "execution_count": 2,
   "id": "0511694c",
   "metadata": {},
   "outputs": [],
   "source": [
    "df = pd.read_csv(\"data.csv\")"
   ]
  },
  {
   "cell_type": "code",
   "execution_count": 3,
   "id": "2b9fff25",
   "metadata": {},
   "outputs": [
    {
     "name": "stdout",
     "output_type": "stream",
     "text": [
      "<class 'pandas.core.frame.DataFrame'>\n",
      "RangeIndex: 11 entries, 0 to 10\n",
      "Data columns (total 2 columns):\n",
      " #   Column  Non-Null Count  Dtype  \n",
      "---  ------  --------------  -----  \n",
      " 0   X       10 non-null     float64\n",
      " 1   Y       10 non-null     float64\n",
      "dtypes: float64(2)\n",
      "memory usage: 308.0 bytes\n"
     ]
    },
    {
     "data": {
      "text/html": [
       "<div>\n",
       "<style scoped>\n",
       "    .dataframe tbody tr th:only-of-type {\n",
       "        vertical-align: middle;\n",
       "    }\n",
       "\n",
       "    .dataframe tbody tr th {\n",
       "        vertical-align: top;\n",
       "    }\n",
       "\n",
       "    .dataframe thead th {\n",
       "        text-align: right;\n",
       "    }\n",
       "</style>\n",
       "<table border=\"1\" class=\"dataframe\">\n",
       "  <thead>\n",
       "    <tr style=\"text-align: right;\">\n",
       "      <th></th>\n",
       "      <th>count</th>\n",
       "      <th>mean</th>\n",
       "      <th>std</th>\n",
       "      <th>min</th>\n",
       "      <th>25%</th>\n",
       "      <th>50%</th>\n",
       "      <th>75%</th>\n",
       "      <th>max</th>\n",
       "    </tr>\n",
       "  </thead>\n",
       "  <tbody>\n",
       "    <tr>\n",
       "      <th>X</th>\n",
       "      <td>10.0</td>\n",
       "      <td>5.04</td>\n",
       "      <td>2.701522</td>\n",
       "      <td>1.1</td>\n",
       "      <td>3.125</td>\n",
       "      <td>4.75</td>\n",
       "      <td>7.175</td>\n",
       "      <td>9.1</td>\n",
       "    </tr>\n",
       "    <tr>\n",
       "      <th>Y</th>\n",
       "      <td>10.0</td>\n",
       "      <td>13.53</td>\n",
       "      <td>30.636871</td>\n",
       "      <td>-5.0</td>\n",
       "      <td>2.275</td>\n",
       "      <td>5.10</td>\n",
       "      <td>7.175</td>\n",
       "      <td>100.0</td>\n",
       "    </tr>\n",
       "  </tbody>\n",
       "</table>\n",
       "</div>"
      ],
      "text/plain": [
       "   count   mean        std  min    25%   50%    75%    max\n",
       "X   10.0   5.04   2.701522  1.1  3.125  4.75  7.175    9.1\n",
       "Y   10.0  13.53  30.636871 -5.0  2.275  5.10  7.175  100.0"
      ]
     },
     "execution_count": 3,
     "metadata": {},
     "output_type": "execute_result"
    }
   ],
   "source": [
    "df.info()\n",
    "df.describe().T"
   ]
  },
  {
   "cell_type": "code",
   "execution_count": 4,
   "id": "163cda0f",
   "metadata": {},
   "outputs": [
    {
     "data": {
      "text/plain": [
       "X    1\n",
       "Y    1\n",
       "dtype: int64"
      ]
     },
     "execution_count": 4,
     "metadata": {},
     "output_type": "execute_result"
    }
   ],
   "source": [
    "df.isnull().sum()"
   ]
  },
  {
   "cell_type": "code",
   "execution_count": 5,
   "id": "a70dabdd",
   "metadata": {},
   "outputs": [
    {
     "data": {
      "text/plain": [
       "np.float64(13.529999999999998)"
      ]
     },
     "execution_count": 5,
     "metadata": {},
     "output_type": "execute_result"
    }
   ],
   "source": [
    "df['X'].mean()\n",
    "df['Y'].mean()"
   ]
  },
  {
   "cell_type": "code",
   "execution_count": 6,
   "id": "36f3a45f",
   "metadata": {},
   "outputs": [],
   "source": [
    "df = df.dropna()"
   ]
  },
  {
   "cell_type": "code",
   "execution_count": 7,
   "id": "9af1d243",
   "metadata": {},
   "outputs": [
    {
     "data": {
      "text/html": [
       "<div>\n",
       "<style scoped>\n",
       "    .dataframe tbody tr th:only-of-type {\n",
       "        vertical-align: middle;\n",
       "    }\n",
       "\n",
       "    .dataframe tbody tr th {\n",
       "        vertical-align: top;\n",
       "    }\n",
       "\n",
       "    .dataframe thead th {\n",
       "        text-align: right;\n",
       "    }\n",
       "</style>\n",
       "<table border=\"1\" class=\"dataframe\">\n",
       "  <thead>\n",
       "    <tr style=\"text-align: right;\">\n",
       "      <th></th>\n",
       "      <th>X</th>\n",
       "      <th>Y</th>\n",
       "    </tr>\n",
       "  </thead>\n",
       "  <tbody>\n",
       "    <tr>\n",
       "      <th>0</th>\n",
       "      <td>1.1</td>\n",
       "      <td>1.5</td>\n",
       "    </tr>\n",
       "    <tr>\n",
       "      <th>1</th>\n",
       "      <td>2.0</td>\n",
       "      <td>1.7</td>\n",
       "    </tr>\n",
       "    <tr>\n",
       "      <th>3</th>\n",
       "      <td>3.8</td>\n",
       "      <td>4.0</td>\n",
       "    </tr>\n",
       "    <tr>\n",
       "      <th>4</th>\n",
       "      <td>4.5</td>\n",
       "      <td>4.1</td>\n",
       "    </tr>\n",
       "    <tr>\n",
       "      <th>5</th>\n",
       "      <td>5.0</td>\n",
       "      <td>100.0</td>\n",
       "    </tr>\n",
       "    <tr>\n",
       "      <th>6</th>\n",
       "      <td>6.2</td>\n",
       "      <td>6.1</td>\n",
       "    </tr>\n",
       "    <tr>\n",
       "      <th>8</th>\n",
       "      <td>7.5</td>\n",
       "      <td>7.4</td>\n",
       "    </tr>\n",
       "    <tr>\n",
       "      <th>9</th>\n",
       "      <td>8.3</td>\n",
       "      <td>-5.0</td>\n",
       "    </tr>\n",
       "    <tr>\n",
       "      <th>10</th>\n",
       "      <td>9.1</td>\n",
       "      <td>9.0</td>\n",
       "    </tr>\n",
       "  </tbody>\n",
       "</table>\n",
       "</div>"
      ],
      "text/plain": [
       "      X      Y\n",
       "0   1.1    1.5\n",
       "1   2.0    1.7\n",
       "3   3.8    4.0\n",
       "4   4.5    4.1\n",
       "5   5.0  100.0\n",
       "6   6.2    6.1\n",
       "8   7.5    7.4\n",
       "9   8.3   -5.0\n",
       "10  9.1    9.0"
      ]
     },
     "execution_count": 7,
     "metadata": {},
     "output_type": "execute_result"
    }
   ],
   "source": [
    "df"
   ]
  },
  {
   "cell_type": "code",
   "execution_count": 8,
   "id": "328e5108",
   "metadata": {},
   "outputs": [
    {
     "name": "stdout",
     "output_type": "stream",
     "text": [
      "<class 'pandas.core.frame.DataFrame'>\n",
      "Index: 9 entries, 0 to 10\n",
      "Data columns (total 2 columns):\n",
      " #   Column  Non-Null Count  Dtype  \n",
      "---  ------  --------------  -----  \n",
      " 0   X       9 non-null      float64\n",
      " 1   Y       9 non-null      float64\n",
      "dtypes: float64(2)\n",
      "memory usage: 216.0 bytes\n"
     ]
    },
    {
     "data": {
      "text/html": [
       "<div>\n",
       "<style scoped>\n",
       "    .dataframe tbody tr th:only-of-type {\n",
       "        vertical-align: middle;\n",
       "    }\n",
       "\n",
       "    .dataframe tbody tr th {\n",
       "        vertical-align: top;\n",
       "    }\n",
       "\n",
       "    .dataframe thead th {\n",
       "        text-align: right;\n",
       "    }\n",
       "</style>\n",
       "<table border=\"1\" class=\"dataframe\">\n",
       "  <thead>\n",
       "    <tr style=\"text-align: right;\">\n",
       "      <th></th>\n",
       "      <th>count</th>\n",
       "      <th>mean</th>\n",
       "      <th>std</th>\n",
       "      <th>min</th>\n",
       "      <th>25%</th>\n",
       "      <th>50%</th>\n",
       "      <th>75%</th>\n",
       "      <th>max</th>\n",
       "    </tr>\n",
       "  </thead>\n",
       "  <tbody>\n",
       "    <tr>\n",
       "      <th>X</th>\n",
       "      <td>9.0</td>\n",
       "      <td>5.277778</td>\n",
       "      <td>2.752171</td>\n",
       "      <td>1.1</td>\n",
       "      <td>3.8</td>\n",
       "      <td>5.0</td>\n",
       "      <td>7.5</td>\n",
       "      <td>9.1</td>\n",
       "    </tr>\n",
       "    <tr>\n",
       "      <th>Y</th>\n",
       "      <td>9.0</td>\n",
       "      <td>14.311111</td>\n",
       "      <td>32.389522</td>\n",
       "      <td>-5.0</td>\n",
       "      <td>1.7</td>\n",
       "      <td>4.1</td>\n",
       "      <td>7.4</td>\n",
       "      <td>100.0</td>\n",
       "    </tr>\n",
       "  </tbody>\n",
       "</table>\n",
       "</div>"
      ],
      "text/plain": [
       "   count       mean        std  min  25%  50%  75%    max\n",
       "X    9.0   5.277778   2.752171  1.1  3.8  5.0  7.5    9.1\n",
       "Y    9.0  14.311111  32.389522 -5.0  1.7  4.1  7.4  100.0"
      ]
     },
     "execution_count": 8,
     "metadata": {},
     "output_type": "execute_result"
    }
   ],
   "source": [
    "df.shape\n",
    "df.info()\n",
    "df.describe().T"
   ]
  },
  {
   "cell_type": "code",
   "execution_count": 9,
   "id": "c54b2476",
   "metadata": {},
   "outputs": [
    {
     "data": {
      "text/plain": [
       "<function matplotlib.pyplot.show(close=None, block=None)>"
      ]
     },
     "execution_count": 9,
     "metadata": {},
     "output_type": "execute_result"
    },
    {
     "data": {
      "image/png": "[encoded data removed]",
      "text/plain": [
       "<Figure size 640x480 with 1 Axes>"
      ]
     },
     "metadata": {},
     "output_type": "display_data"
    }
   ],
   "source": [
    "plt.boxplot(df['X'])\n",
    "plt.show"
   ]
  },
  {
   "cell_type": "code",
   "execution_count": 10,
   "id": "9042a216",
   "metadata": {},
   "outputs": [
    {
     "data": {
      "text/plain": [
       "<function matplotlib.pyplot.show(close=None, block=None)>"
      ]
     },
     "execution_count": 10,
     "metadata": {},
     "output_type": "execute_result"
    },
    {
     "data": {
      "image/png": "[encoded data removed]",
      "text/plain": [
       "<Figure size 640x480 with 1 Axes>"
      ]
     },
     "metadata": {},
     "output_type": "display_data"
    }
   ],
   "source": [
    "plt.boxplot(df['Y'])\n",
    "plt.show"
   ]
  },
  {
   "cell_type": "code",
   "execution_count": 11,
   "id": "8e81ac8f",
   "metadata": {},
   "outputs": [],
   "source": [
    "Q1 = df['Y'].quantile(0.25)\n",
    "Q3 = df['Y'].quantile(0.75)\n",
    "IQR = Q3 - Q1\n",
    "\n",
    "lower_bound = Q1 - 1.5 * IQR\n",
    "upper_bound = Q3 + 1.5 * IQR"
   ]
  },
  {
   "cell_type": "code",
   "execution_count": 12,
   "id": "a3a23aee",
   "metadata": {},
   "outputs": [
    {
     "data": {
      "text/plain": [
       "np.float64(15.950000000000001)"
      ]
     },
     "execution_count": 12,
     "metadata": {},
     "output_type": "execute_result"
    }
   ],
   "source": [
    "lower_bound\n",
    "upper_bound"
   ]
  },
  {
   "cell_type": "code",
   "execution_count": 13,
   "id": "182484b2",
   "metadata": {},
   "outputs": [],
   "source": [
    "df = df[(df['Y'] >= lower_bound) & (df['Y'] <= upper_bound)]"
   ]
  },
  {
   "cell_type": "code",
   "execution_count": 14,
   "id": "efff2b4f",
   "metadata": {},
   "outputs": [
    {
     "data": {
      "text/plain": [
       "<function matplotlib.pyplot.show(close=None, block=None)>"
      ]
     },
     "execution_count": 14,
     "metadata": {},
     "output_type": "execute_result"
    },
    {
     "data": {
      "image/png": "[encoded data removed]",
      "text/plain": [
       "<Figure size 640x480 with 1 Axes>"
      ]
     },
     "metadata": {},
     "output_type": "display_data"
    }
   ],
   "source": [
    "plt.boxplot(df['Y'])\n",
    "plt.show"
   ]
  },
  {
   "cell_type": "code",
   "execution_count": 15,
   "id": "9bc1f5db",
   "metadata": {},
   "outputs": [],
   "source": [
    "df = df[df[\"Y\"] >= 0]"
   ]
  },
  {
   "cell_type": "code",
   "execution_count": 16,
   "id": "96dca1c7",
   "metadata": {},
   "outputs": [
    {
     "data": {
      "text/plain": [
       "<function matplotlib.pyplot.show(close=None, block=None)>"
      ]
     },
     "execution_count": 16,
     "metadata": {},
     "output_type": "execute_result"
    },
    {
     "data": {
      "image/png": "[encoded data removed]",
      "text/plain": [
       "<Figure size 640x480 with 1 Axes>"
      ]
     },
     "metadata": {},
     "output_type": "display_data"
    }
   ],
   "source": [
    "plt.boxplot(df['Y'])\n",
    "plt.show"
   ]
  },
  {
   "cell_type": "code",
   "execution_count": 17,
   "id": "3ff06e05",
   "metadata": {},
   "outputs": [
    {
     "data": {
      "text/html": [
       "<div>\n",
       "<style scoped>\n",
       "    .dataframe tbody tr th:only-of-type {\n",
       "        vertical-align: middle;\n",
       "    }\n",
       "\n",
       "    .dataframe tbody tr th {\n",
       "        vertical-align: top;\n",
       "    }\n",
       "\n",
       "    .dataframe thead th {\n",
       "        text-align: right;\n",
       "    }\n",
       "</style>\n",
       "<table border=\"1\" class=\"dataframe\">\n",
       "  <thead>\n",
       "    <tr style=\"text-align: right;\">\n",
       "      <th></th>\n",
       "      <th>X</th>\n",
       "      <th>Y</th>\n",
       "    </tr>\n",
       "  </thead>\n",
       "  <tbody>\n",
       "    <tr>\n",
       "      <th>0</th>\n",
       "      <td>1.1</td>\n",
       "      <td>1.5</td>\n",
       "    </tr>\n",
       "    <tr>\n",
       "      <th>1</th>\n",
       "      <td>2.0</td>\n",
       "      <td>1.7</td>\n",
       "    </tr>\n",
       "    <tr>\n",
       "      <th>3</th>\n",
       "      <td>3.8</td>\n",
       "      <td>4.0</td>\n",
       "    </tr>\n",
       "    <tr>\n",
       "      <th>4</th>\n",
       "      <td>4.5</td>\n",
       "      <td>4.1</td>\n",
       "    </tr>\n",
       "    <tr>\n",
       "      <th>6</th>\n",
       "      <td>6.2</td>\n",
       "      <td>6.1</td>\n",
       "    </tr>\n",
       "    <tr>\n",
       "      <th>8</th>\n",
       "      <td>7.5</td>\n",
       "      <td>7.4</td>\n",
       "    </tr>\n",
       "    <tr>\n",
       "      <th>10</th>\n",
       "      <td>9.1</td>\n",
       "      <td>9.0</td>\n",
       "    </tr>\n",
       "  </tbody>\n",
       "</table>\n",
       "</div>"
      ],
      "text/plain": [
       "      X    Y\n",
       "0   1.1  1.5\n",
       "1   2.0  1.7\n",
       "3   3.8  4.0\n",
       "4   4.5  4.1\n",
       "6   6.2  6.1\n",
       "8   7.5  7.4\n",
       "10  9.1  9.0"
      ]
     },
     "execution_count": 17,
     "metadata": {},
     "output_type": "execute_result"
    }
   ],
   "source": [
    "df"
   ]
  },
  {
   "cell_type": "code",
   "execution_count": 18,
   "id": "794a4de1",
   "metadata": {},
   "outputs": [
    {
     "data": {
      "image/png": "[encoded data removed]",
      "text/plain": [
       "<Figure size 640x480 with 1 Axes>"
      ]
     },
     "metadata": {},
     "output_type": "display_data"
    }
   ],
   "source": [
    "plt.scatter(df['X'], df['Y'])\n",
    "plt.title(\"Training Data\")\n",
    "plt.xlabel(\"X\")\n",
    "plt.ylabel(\"Y\")\n",
    "plt.grid(True)\n",
    "plt.show()"
   ]
  },
  {
   "cell_type": "code",
   "execution_count": 19,
   "id": "a6965e19",
   "metadata": {},
   "outputs": [
    {
     "name": "stdout",
     "output_type": "stream",
     "text": [
      "      X    Y  X_normal  Y_normal\n",
      "0   1.1  1.5    0.0000  0.000000\n",
      "1   2.0  1.7    0.1125  0.026667\n",
      "3   3.8  4.0    0.3375  0.333333\n",
      "4   4.5  4.1    0.4250  0.346667\n",
      "6   6.2  6.1    0.6375  0.613333\n",
      "8   7.5  7.4    0.8000  0.786667\n",
      "10  9.1  9.0    1.0000  1.000000\n"
     ]
    }
   ],
   "source": [
    "# Normalize (MinMax Approach)\n",
    "\n",
    "df[\"X_normal\"] = (df[\"X\"] - df[\"X\"].min()) / (df[\"X\"].max() - df[\"X\"].min())\n",
    "df[\"Y_normal\"] = (df[\"Y\"] - df[\"Y\"].min()) / (df[\"Y\"].max() - df[\"Y\"].min())\n",
    "\n",
    "print(df)"
   ]
  },
  {
   "cell_type": "code",
   "execution_count": 20,
   "id": "29bc9a85",
   "metadata": {},
   "outputs": [
    {
     "data": {
      "image/png": "[encoded data removed]",
      "text/plain": [
       "<Figure size 640x480 with 1 Axes>"
      ]
     },
     "metadata": {},
     "output_type": "display_data"
    }
   ],
   "source": [
    "plt.scatter(df['X_normal'], df['Y_normal'])\n",
    "plt.title(\"Training Data\")\n",
    "plt.xlabel(\"X\")\n",
    "plt.ylabel(\"Y\")\n",
    "plt.grid(True)\n",
    "plt.show()"
   ]
  },
  {
   "cell_type": "code",
   "execution_count": 21,
   "id": "dfac4914",
   "metadata": {},
   "outputs": [
    {
     "data": {
      "text/html": [
       "<div>\n",
       "<style scoped>\n",
       "    .dataframe tbody tr th:only-of-type {\n",
       "        vertical-align: middle;\n",
       "    }\n",
       "\n",
       "    .dataframe tbody tr th {\n",
       "        vertical-align: top;\n",
       "    }\n",
       "\n",
       "    .dataframe thead th {\n",
       "        text-align: right;\n",
       "    }\n",
       "</style>\n",
       "<table border=\"1\" class=\"dataframe\">\n",
       "  <thead>\n",
       "    <tr style=\"text-align: right;\">\n",
       "      <th></th>\n",
       "      <th>X</th>\n",
       "      <th>Y</th>\n",
       "      <th>X_normal</th>\n",
       "      <th>Y_normal</th>\n",
       "    </tr>\n",
       "  </thead>\n",
       "  <tbody>\n",
       "    <tr>\n",
       "      <th>0</th>\n",
       "      <td>1.1</td>\n",
       "      <td>1.5</td>\n",
       "      <td>0.0000</td>\n",
       "      <td>0.000000</td>\n",
       "    </tr>\n",
       "    <tr>\n",
       "      <th>1</th>\n",
       "      <td>2.0</td>\n",
       "      <td>1.7</td>\n",
       "      <td>0.1125</td>\n",
       "      <td>0.026667</td>\n",
       "    </tr>\n",
       "    <tr>\n",
       "      <th>3</th>\n",
       "      <td>3.8</td>\n",
       "      <td>4.0</td>\n",
       "      <td>0.3375</td>\n",
       "      <td>0.333333</td>\n",
       "    </tr>\n",
       "    <tr>\n",
       "      <th>4</th>\n",
       "      <td>4.5</td>\n",
       "      <td>4.1</td>\n",
       "      <td>0.4250</td>\n",
       "      <td>0.346667</td>\n",
       "    </tr>\n",
       "    <tr>\n",
       "      <th>6</th>\n",
       "      <td>6.2</td>\n",
       "      <td>6.1</td>\n",
       "      <td>0.6375</td>\n",
       "      <td>0.613333</td>\n",
       "    </tr>\n",
       "    <tr>\n",
       "      <th>8</th>\n",
       "      <td>7.5</td>\n",
       "      <td>7.4</td>\n",
       "      <td>0.8000</td>\n",
       "      <td>0.786667</td>\n",
       "    </tr>\n",
       "    <tr>\n",
       "      <th>10</th>\n",
       "      <td>9.1</td>\n",
       "      <td>9.0</td>\n",
       "      <td>1.0000</td>\n",
       "      <td>1.000000</td>\n",
       "    </tr>\n",
       "  </tbody>\n",
       "</table>\n",
       "</div>"
      ],
      "text/plain": [
       "      X    Y  X_normal  Y_normal\n",
       "0   1.1  1.5    0.0000  0.000000\n",
       "1   2.0  1.7    0.1125  0.026667\n",
       "3   3.8  4.0    0.3375  0.333333\n",
       "4   4.5  4.1    0.4250  0.346667\n",
       "6   6.2  6.1    0.6375  0.613333\n",
       "8   7.5  7.4    0.8000  0.786667\n",
       "10  9.1  9.0    1.0000  1.000000"
      ]
     },
     "execution_count": 21,
     "metadata": {},
     "output_type": "execute_result"
    }
   ],
   "source": [
    "df"
   ]
  },
  {
   "cell_type": "code",
   "execution_count": 22,
   "id": "fde009bf",
   "metadata": {},
   "outputs": [],
   "source": [
    "\n",
    "X = df[\"X_normal\"].values\n",
    "Y = df[\"Y_normal\"].values\n",
    "\n",
    "m = len(X)"
   ]
  },
  {
   "cell_type": "code",
   "execution_count": 23,
   "id": "87ab24b5",
   "metadata": {},
   "outputs": [],
   "source": [
    "def hypothesis_func(θ0, θ1, x):\n",
    "    return (θ0 + (θ1 * x))"
   ]
  },
  {
   "cell_type": "code",
   "execution_count": 24,
   "id": "d5bb567b",
   "metadata": {},
   "outputs": [],
   "source": [
    "def mse_loss_func(θ0, θ1, X, Y):\n",
    "    m = len(X)\n",
    "    return (1 / (2 * m)) * np.sum((hypothesis_func(θ0, θ1, X) - Y) ** 2)"
   ]
  },
  {
   "cell_type": "code",
   "execution_count": 25,
   "id": "435b40b5",
   "metadata": {},
   "outputs": [],
   "source": [
    "def mae_loss_func(θ0, θ1, X, Y):\n",
    "    m = len(X)\n",
    "    return (1 / m) * np.sum(np.abs(hypothesis_func(θ0, θ1, X) - Y))"
   ]
  },
  {
   "cell_type": "code",
   "execution_count": 26,
   "id": "b965cd37",
   "metadata": {},
   "outputs": [],
   "source": [
    "def mse_gradient_descent(θ0, θ1, X, Y):\n",
    "    m = len(X)\n",
    "    diff_θ0 = (1 / m) * np.sum(hypothesis_func(θ0, θ1, X) - Y)\n",
    "    diff_θ1 = (1 / m) * np.sum((hypothesis_func(θ0, θ1, X) - Y) * X)\n",
    "    return diff_θ0, diff_θ1"
   ]
  },
  {
   "cell_type": "code",
   "execution_count": 27,
   "id": "e48e7532",
   "metadata": {},
   "outputs": [],
   "source": [
    "def mae_gradient_descent(θ0, θ1, X, Y):\n",
    "    m = len(X)\n",
    "    diff_θ0 = (1 / m) * np.sum(np.sign(hypothesis_func(θ0, θ1, X) - Y))\n",
    "    diff_θ1 = (1 / m) * np.sum(np.sign(hypothesis_func(θ0, θ1, X) - Y) * X)\n",
    "    return diff_θ0, diff_θ1"
   ]
  },
  {
   "cell_type": "code",
   "execution_count": 28,
   "id": "a34f5163",
   "metadata": {},
   "outputs": [],
   "source": [
    "def gradient_descent_function(X, Y, loss_func, gradient_func, α = 0.01, iterate = 5000):\n",
    "    θ0 = 0.0\n",
    "    θ1 = 0.0 \n",
    "\n",
    "    loss_function_history = []\n",
    "\n",
    "    for i in range(iterate):\n",
    "        diff_θ0, diff_θ1 = gradient_func(θ0, θ1, X, Y)\n",
    "        θ0 -= (α * diff_θ0)\n",
    "        θ1 -= (α * diff_θ1)\n",
    "        loss = loss_func(θ0, θ1, X, Y)\n",
    "        loss_function_history.append(loss)\n",
    "    \n",
    "    return θ0, θ1, loss_function_history"
   ]
  },
  {
   "cell_type": "code",
   "execution_count": 29,
   "id": "29e1ba95",
   "metadata": {},
   "outputs": [
    {
     "name": "stdout",
     "output_type": "stream",
     "text": [
      "MSE Final Parameters: θ0 = -0.04087064731972452 θ1 = 1.0251388917886948\n",
      "MAE Final Parameters: θ0 = -0.0557142857142857 θ1 = 1.0560714285711779\n"
     ]
    }
   ],
   "source": [
    "θ0_mse, θ1_mse, loss_mse = gradient_descent_function(X, Y, mse_loss_func, mse_gradient_descent, α = 0.01, iterate = 5000)\n",
    "θ0_mae, θ1_mae, loss_mae = gradient_descent_function(X, Y, mae_loss_func, mae_gradient_descent, α = 0.01, iterate = 5000)\n",
    "\n",
    "print(\"MSE Final Parameters: θ0 =\", θ0_mse, \"θ1 =\", θ1_mse)\n",
    "print(\"MAE Final Parameters: θ0 =\", θ0_mae, \"θ1 =\", θ1_mae)"
   ]
  },
  {
   "cell_type": "code",
   "execution_count": 30,
   "id": "c30006a4",
   "metadata": {},
   "outputs": [
    {
     "data": {
      "text/plain": [
       "<matplotlib.legend.Legend at 0x2d6dadd7620>"
      ]
     },
     "execution_count": 30,
     "metadata": {},
     "output_type": "execute_result"
    },
    {
     "data": {
      "image/png": "[encoded data removed]",
      "text/plain": [
       "<Figure size 640x480 with 1 Axes>"
      ]
     },
     "metadata": {},
     "output_type": "display_data"
    }
   ],
   "source": [
    "plt.scatter(X, Y, color=\"blue\", label=\"Data Points\")\n",
    "plt.plot(X, hypothesis_func(θ0_mse, θ1_mse, X), color=\"red\", label=\"Fitted Line (MSE)\")\n",
    "plt.title(\"Linear Regression with MSE\")\n",
    "plt.xlabel(\"X_normal\")\n",
    "plt.ylabel(\"Y_normal\")\n",
    "plt.grid(True)\n",
    "plt.legend()\n"
   ]
  },
  {
   "cell_type": "code",
   "execution_count": 31,
   "id": "b13b08d1",
   "metadata": {},
   "outputs": [
    {
     "data": {
      "image/png": "[encoded data removed]",
      "text/plain": [
       "<Figure size 640x480 with 1 Axes>"
      ]
     },
     "metadata": {},
     "output_type": "display_data"
    }
   ],
   "source": [
    "# Fitted Line (MAE)\n",
    "plt.scatter(X, Y, color=\"blue\", label=\"Data Points\")\n",
    "plt.plot(X, hypothesis_func(θ0_mae, θ1_mae, X), color=\"green\", label=\"Fitted Line (MAE)\")\n",
    "plt.title(\"Linear Regression with MAE\")\n",
    "plt.xlabel(\"X_normal\")\n",
    "plt.ylabel(\"Y_normal\")\n",
    "plt.grid(True)\n",
    "plt.legend()\n",
    "plt.show()"
   ]
  },
  {
   "cell_type": "code",
   "execution_count": 32,
   "id": "88c72bb6",
   "metadata": {},
   "outputs": [
    {
     "data": {
      "image/png": "[encoded data removed]",
      "text/plain": [
       "<Figure size 1000x400 with 1 Axes>"
      ]
     },
     "metadata": {},
     "output_type": "display_data"
    }
   ],
   "source": [
    "# Plot loss curves\n",
    "plt.figure(figsize=(10, 4))\n",
    "plt.plot(loss_mse, label=\"MSE Loss\")\n",
    "plt.plot(loss_mae, label=\"MAE Loss\")\n",
    "plt.title(\"Loss Convergence\")\n",
    "plt.xlabel(\"Epochs\")\n",
    "plt.ylabel(\"Loss\")\n",
    "plt.legend()\n",
    "plt.grid(True)\n",
    "plt.show()"
   ]
  },
  {
   "cell_type": "markdown",
   "id": "a0566313",
   "metadata": {},
   "source": [
    "### If not remove null / outlier line will be almost straignt line"
   ]
  },
  {
   "cell_type": "code",
   "execution_count": 33,
   "id": "61e39b79",
   "metadata": {},
   "outputs": [],
   "source": [
    "df_without_remove_null_outlier = pd.read_csv(\"data.csv\")"
   ]
  },
  {
   "cell_type": "code",
   "execution_count": 34,
   "id": "ff7ea370",
   "metadata": {},
   "outputs": [
    {
     "name": "stdout",
     "output_type": "stream",
     "text": [
      "      X      Y  X_normal  Y_normal\n",
      "0   1.1    1.5    0.0000  0.061905\n",
      "1   2.0    1.7    0.1125  0.063810\n",
      "2   2.9    NaN    0.2250       NaN\n",
      "3   3.8    4.0    0.3375  0.085714\n",
      "4   4.5    4.1    0.4250  0.086667\n",
      "5   5.0  100.0    0.4875  1.000000\n",
      "6   6.2    6.1    0.6375  0.105714\n",
      "7   NaN    6.5       NaN  0.109524\n",
      "8   7.5    7.4    0.8000  0.118095\n",
      "9   8.3   -5.0    0.9000  0.000000\n",
      "10  9.1    9.0    1.0000  0.133333\n"
     ]
    }
   ],
   "source": [
    "df_without_remove_null_outlier[\"X_normal\"] = (\n",
    "    (df_without_remove_null_outlier[\"X\"] - df_without_remove_null_outlier[\"X\"].min())\n",
    "    / (df_without_remove_null_outlier[\"X\"].max() - df_without_remove_null_outlier[\"X\"].min())\n",
    ")\n",
    "\n",
    "df_without_remove_null_outlier[\"Y_normal\"] = (\n",
    "    (df_without_remove_null_outlier[\"Y\"] - df_without_remove_null_outlier[\"Y\"].min())\n",
    "    / (df_without_remove_null_outlier[\"Y\"].max() - df_without_remove_null_outlier[\"Y\"].min())\n",
    ")\n",
    "\n",
    "print(df_without_remove_null_outlier)\n",
    "\n"
   ]
  },
  {
   "cell_type": "code",
   "execution_count": 35,
   "id": "0509ea26",
   "metadata": {},
   "outputs": [
    {
     "data": {
      "image/png": "[encoded data removed]",
      "text/plain": [
       "<Figure size 640x480 with 1 Axes>"
      ]
     },
     "metadata": {},
     "output_type": "display_data"
    }
   ],
   "source": [
    "plt.scatter(df_without_remove_null_outlier['X_normal'], df_without_remove_null_outlier['Y_normal'])\n",
    "plt.title(\"Training Data\")\n",
    "plt.xlabel(\"X\")\n",
    "plt.ylabel(\"Y\")\n",
    "plt.grid(True)\n",
    "plt.show()"
   ]
  }
 ],
 "metadata": {
  "kernelspec": {
   "display_name": "Python 3",
   "language": "python",
   "name": "python3"
  },
  "language_info": {
   "codemirror_mode": {
    "name": "ipython",
    "version": 3
   },
   "file_extension": ".py",
   "mimetype": "text/x-python",
   "name": "python",
   "nbconvert_exporter": "python",
   "pygments_lexer": "ipython3",
   "version": "3.13.0"
  }
 },
 "nbformat": 4,
 "nbformat_minor": 5
}
