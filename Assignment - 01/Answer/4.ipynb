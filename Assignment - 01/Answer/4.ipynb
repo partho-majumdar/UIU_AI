{
 "cells": [
  {
   "cell_type": "code",
   "execution_count": 33,
   "id": "68853c2e",
   "metadata": {},
   "outputs": [
    {
     "name": "stdout",
     "output_type": "stream",
     "text": [
      "8\n"
     ]
    }
   ],
   "source": [
    "import string\n",
    " \n",
    "ipt = \"Python is great. Python is powerful, and Python is easy to learn!\"\n",
    "\n",
    "split_word = ipt.split()\n",
    "arr = set()\n",
    "\n",
    "for i in split_word:\n",
    "    remove_punctuation = i.strip(string.punctuation).lower()\n",
    "    arr.add(remove_punctuation)\n",
    "\n",
    "print(len(arr))"
   ]
  }
 ],
 "metadata": {
  "kernelspec": {
   "display_name": "Python 3",
   "language": "python",
   "name": "python3"
  },
  "language_info": {
   "codemirror_mode": {
    "name": "ipython",
    "version": 3
   },
   "file_extension": ".py",
   "mimetype": "text/x-python",
   "name": "python",
   "nbconvert_exporter": "python",
   "pygments_lexer": "ipython3",
   "version": "3.13.0"
  }
 },
 "nbformat": 4,
 "nbformat_minor": 5
}
