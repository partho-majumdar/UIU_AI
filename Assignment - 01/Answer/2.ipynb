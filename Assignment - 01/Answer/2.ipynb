{
 "cells": [
  {
   "cell_type": "code",
   "execution_count": 1,
   "id": "b79be0e8",
   "metadata": {},
   "outputs": [
    {
     "name": "stdout",
     "output_type": "stream",
     "text": [
      "Alice Total = 253 Average = 84.33 Grade = A\n",
      "Bob Total = 155 Average = 51.67 Grade = F\n",
      "Charlie Total = 275 Average = 91.67 Grade = A+\n",
      "David Total = 217 Average = 72.33 Grade = B\n",
      "Eve Total = 262 Average = 87.33 Grade = A\n"
     ]
    }
   ],
   "source": [
    "def find_grades(avg_marks):\n",
    "    if avg_marks >= 90 and avg_marks <= 100:\n",
    "        return 'A+'\n",
    "    elif avg_marks >= 80 and avg_marks <= 89:\n",
    "        return 'A'\n",
    "    elif avg_marks >= 70 and avg_marks <= 79:\n",
    "        return 'B'\n",
    "    elif avg_marks >= 60 and avg_marks <= 69:\n",
    "        return 'C'\n",
    "    else:\n",
    "        return 'F'\n",
    "\n",
    "students = []\n",
    "\n",
    "for i in range(5):\n",
    "    ipt = input(\"Enter input: \")\n",
    "    split_data = ipt.split()\n",
    "    name = split_data[0]\n",
    "    math = int(split_data[1])\n",
    "    science = int(split_data[2])\n",
    "    english = int(split_data[3])\n",
    "    total_marks = math + science + english\n",
    "    average_marks = total_marks / 3\n",
    "    grade = find_grades(average_marks)\n",
    "\n",
    "    student = {\n",
    "        \"name\": name,\n",
    "        \"math\": math,\n",
    "        \"science\": science,\n",
    "        \"english\": english,\n",
    "        \"total_marks\": total_marks,\n",
    "        \"average_marks\": average_marks,\n",
    "        \"grade\": grade\n",
    "    }\n",
    "    students.append(student)\n",
    "\n",
    "for student in students:\n",
    "    print(student[\"name\"], \"Total =\", student[\"total_marks\"], \"Average =\", round(student[\"average_marks\"], 2), \"Grade =\", student[\"grade\"])"
   ]
  },
  {
   "cell_type": "code",
   "execution_count": null,
   "id": "0891f4c9",
   "metadata": {},
   "outputs": [],
   "source": []
  }
 ],
 "metadata": {
  "kernelspec": {
   "display_name": "Python 3",
   "language": "python",
   "name": "python3"
  },
  "language_info": {
   "codemirror_mode": {
    "name": "ipython",
    "version": 3
   },
   "file_extension": ".py",
   "mimetype": "text/x-python",
   "name": "python",
   "nbconvert_exporter": "python",
   "pygments_lexer": "ipython3",
   "version": "3.13.0"
  }
 },
 "nbformat": 4,
 "nbformat_minor": 5
}
