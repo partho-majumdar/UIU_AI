{
 "cells": [
  {
   "cell_type": "code",
   "execution_count": 4,
   "id": "ab381689",
   "metadata": {},
   "outputs": [
    {
     "name": "stdout",
     "output_type": "stream",
     "text": [
      "EVEN\n",
      "NEGATIVE\n"
     ]
    }
   ],
   "source": [
    "N = int(input(\"Enter the number: \"))\n",
    "\n",
    "if N % 2 == 0:\n",
    "    print(\"EVEN\")\n",
    "else:\n",
    "    print(\"ODD\")\n",
    "\n",
    "if N < 0:\n",
    "    print(\"NEGATIVE\")   \n",
    "elif N > 0:\n",
    "    print(\"POSITIVE\")\n",
    "elif N == 0:\n",
    "    print(\"ZERO\")\n"
   ]
  }
 ],
 "metadata": {
  "kernelspec": {
   "display_name": "Python 3",
   "language": "python",
   "name": "python3"
  },
  "language_info": {
   "codemirror_mode": {
    "name": "ipython",
    "version": 3
   },
   "file_extension": ".py",
   "mimetype": "text/x-python",
   "name": "python",
   "nbconvert_exporter": "python",
   "pygments_lexer": "ipython3",
   "version": "3.13.0"
  }
 },
 "nbformat": 4,
 "nbformat_minor": 5
}
