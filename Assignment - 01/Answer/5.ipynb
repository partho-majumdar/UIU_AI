{
 "cells": [
  {
   "cell_type": "code",
   "execution_count": 2,
   "id": "d6a825e8",
   "metadata": {},
   "outputs": [
    {
     "name": "stdout",
     "output_type": "stream",
     "text": [
      "python: 3\n",
      "fun: 2\n",
      "is: 2\n",
      "makes: 1\n",
      "powerful: 1\n",
      "programming: 1\n"
     ]
    }
   ],
   "source": [
    "import string\n",
    " \n",
    "ipt = \"Python is fun. Python is powerful! Python makes programming fun.\"\n",
    "\n",
    "ls = ipt.split()\n",
    "dict_word = {}\n",
    "\n",
    "for i in ls:\n",
    "    remove_punctuation = i.strip(string.punctuation).lower()\n",
    "\n",
    "    if remove_punctuation in dict_word:\n",
    "        dict_word[remove_punctuation] += 1\n",
    "    else:\n",
    "        dict_word[remove_punctuation] = 1\n",
    "\n",
    "sorted_items = sorted(dict_word.items(), key=lambda x: (-x[1], x[0]))\n",
    "\n",
    "\n",
    "for i, j in sorted_items:\n",
    "    print(f\"{i}: {j}\")"
   ]
  }
 ],
 "metadata": {
  "kernelspec": {
   "display_name": "Python 3",
   "language": "python",
   "name": "python3"
  },
  "language_info": {
   "codemirror_mode": {
    "name": "ipython",
    "version": 3
   },
   "file_extension": ".py",
   "mimetype": "text/x-python",
   "name": "python",
   "nbconvert_exporter": "python",
   "pygments_lexer": "ipython3",
   "version": "3.13.0"
  }
 },
 "nbformat": 4,
 "nbformat_minor": 5
}
