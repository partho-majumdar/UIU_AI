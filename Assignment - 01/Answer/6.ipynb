{
 "cells": [
  {
   "cell_type": "code",
   "execution_count": 35,
   "id": "ef648e61",
   "metadata": {},
   "outputs": [
    {
     "name": "stdout",
     "output_type": "stream",
     "text": [
      "1 2 3 "
     ]
    }
   ],
   "source": [
    "N = int(input())\n",
    "\n",
    "ls1 = input().strip().split()\n",
    "ls1 = list(map(int, ls1))\n",
    "ls1 = ls1[:N]\n",
    "\n",
    "M = int(input())\n",
    "\n",
    "ls2 = input().strip().split()\n",
    "ls2 = list(map(int, ls2))\n",
    "ls2 = ls2[:M]\n",
    "\n",
    "common = sorted(set(ls1) & set(ls2))\n",
    "\n",
    "if common:\n",
    "    for i in common:\n",
    "        print(i, end=' ')\n",
    "\n",
    "else:\n",
    "    print(\"No common elements\")\n"
   ]
  },
  {
   "cell_type": "code",
   "execution_count": null,
   "id": "7fc299fd",
   "metadata": {},
   "outputs": [],
   "source": []
  }
 ],
 "metadata": {
  "kernelspec": {
   "display_name": "Python 3",
   "language": "python",
   "name": "python3"
  },
  "language_info": {
   "codemirror_mode": {
    "name": "ipython",
    "version": 3
   },
   "file_extension": ".py",
   "mimetype": "text/x-python",
   "name": "python",
   "nbconvert_exporter": "python",
   "pygments_lexer": "ipython3",
   "version": "3.13.0"
  }
 },
 "nbformat": 4,
 "nbformat_minor": 5
}
